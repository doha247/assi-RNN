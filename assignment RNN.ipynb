{
 "cells": [
  {
   "cell_type": "code",
   "execution_count": 3,
   "id": "bfd9dadd-60e3-4c14-8e29-ba4d475b09a6",
   "metadata": {},
   "outputs": [
    {
     "name": "stdout",
     "output_type": "stream",
     "text": [
      "Predicted word: beautiful\n"
     ]
    }
   ],
   "source": [
    "text = \"it is a beautiful flower\"\n",
    "words = text.split() \n",
    "\n",
    "word_to_index = {\n",
    "    \"it\": 0,\n",
    "    \"is\": 1,\n",
    "    \"a\": 2,\n",
    "    \"beautiful\": 3,\n",
    "    \"flower\": 4\n",
    "}\n",
    "\n",
    "index_to_word = {v: k for k, v in word_to_index.items()}\n",
    "\n",
    "X = [word_to_index[\"it\"], word_to_index[\"is\"], word_to_index[\"a\"], word_to_index[\"beautiful\"]]\n",
    "y = word_to_index[\"flower\"]\n",
    "\n",
    "hidden_size = 8\n",
    "vocab_size = 5\n",
    "\n",
    "\n",
    "Wxh = [\n",
    "    [0.2]*hidden_size,\n",
    "    [0.1]*hidden_size,\n",
    "    [0.05]*hidden_size,\n",
    "    [0.3]*hidden_size\n",
    "]\n",
    "Whh = [0.5]*hidden_size  \n",
    "Why = [0.4]*hidden_size\n",
    "\n",
    "bh = [0.0]*hidden_size \n",
    "by = 0.0 \n",
    "\n",
    "h = [0.0]*hidden_size  \n",
    "\n",
    "for i in range(4):\n",
    "    for j in range(hidden_size):\n",
    "        h[j] = h[j] + Wxh[i][j] + Whh[j] + bh[j]\n",
    "\n",
    "y_score = by\n",
    "for j in range(hidden_size):\n",
    "    y_score += h[j] * Why[j]\n",
    "\n",
    "\n",
    "predicted_idx = int(round(y_score)) % vocab_size\n",
    "\n",
    "\n",
    "predicted_word = index_to_word.get(predicted_idx, \"unknown\")\n",
    "print(\"Predicted word:\", predicted_word)\n"
   ]
  },
  {
   "cell_type": "code",
   "execution_count": null,
   "id": "3609d4d1-6241-4b0d-9976-74916477772d",
   "metadata": {},
   "outputs": [],
   "source": []
  }
 ],
 "metadata": {
  "kernelspec": {
   "display_name": "Python 3 (ipykernel)",
   "language": "python",
   "name": "python3"
  },
  "language_info": {
   "codemirror_mode": {
    "name": "ipython",
    "version": 3
   },
   "file_extension": ".py",
   "mimetype": "text/x-python",
   "name": "python",
   "nbconvert_exporter": "python",
   "pygments_lexer": "ipython3",
   "version": "3.12.7"
  }
 },
 "nbformat": 4,
 "nbformat_minor": 5
}
